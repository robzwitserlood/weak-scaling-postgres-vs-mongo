{
 "cells": [
  {
   "cell_type": "code",
   "execution_count": 1,
   "metadata": {},
   "outputs": [],
   "source": [
    "import os\n",
    "import pandas as pd\n",
    "import numpy as np\n",
    "import matplotlib.pyplot as plt\n",
    "from _experiment import Experiment"
   ]
  },
  {
   "cell_type": "code",
   "execution_count": 2,
   "metadata": {},
   "outputs": [],
   "source": [
    "# USER INPUT: set personal configurations here\n",
    "\n",
    "# Configurations for postgres server: change values only, do not change keys\n",
    "postgres_settings = {\n",
    "    \"user\": \"temp\",\n",
    "    \"password\": \"1234\",\n",
    "    \"host\": \"localhost\",\n",
    "    \"port\": \"5432\",\n",
    "    \"database\": \"mydb\"\n",
    "}\n",
    "\n",
    "# Configurations for MongoDB: change values only, do not change keys\n",
    "mongodb_settings = {\n",
    "    \"host\": \"mongodb://localhost:27017/\",\n",
    "    \"database\": \"bigdata\"\n",
    "}\n",
    "\n",
    "# Your name for experiment logging\n",
    "person = 'rob'"
   ]
  },
  {
   "cell_type": "code",
   "execution_count": 3,
   "metadata": {
    "scrolled": true
   },
   "outputs": [
    {
     "name": "stdout",
     "output_type": "stream",
     "text": [
      "Created instance of Experiment class to measure database response times\n"
     ]
    }
   ],
   "source": [
    "test = Experiment()"
   ]
  },
  {
   "cell_type": "code",
   "execution_count": 4,
   "metadata": {
    "scrolled": true
   },
   "outputs": [
    {
     "name": "stdout",
     "output_type": "stream",
     "text": [
      "Connection to MongoDB successful\n",
      "Connection to Postgres successful\n"
     ]
    }
   ],
   "source": [
    "test.connect(postgres_settings, mongodb_settings)"
   ]
  },
  {
   "cell_type": "code",
   "execution_count": 5,
   "metadata": {},
   "outputs": [],
   "source": [
    "test.prepare_databases(os.getcwd())"
   ]
  },
  {
   "cell_type": "code",
   "execution_count": 6,
   "metadata": {
    "scrolled": true
   },
   "outputs": [
    {
     "name": "stdout",
     "output_type": "stream",
     "text": [
      "--------------------------------------------------------------------------------------\n",
      "Start with experiment on arrest_db data set in relational database\n",
      "\t All postgres tables dropped\n",
      "\t \t Imported data size 50000 to postgres in 673.424482345581 ms\n",
      "\t \t Executed query 1 10 times with avg. response time 22.17698097229004 ms\n",
      "\t \t Executed query 2 10 times with avg. response time 56.206607818603516 ms\n",
      "\t \t Executed query 3 10 times with avg. response time 15.326786041259766 ms\n",
      "\t \t Executed query 4 10 times with avg. response time 185.42208671569824 ms\n",
      "\t \t Executed query 5 10 times with avg. response time 76.44495964050293 ms\n",
      "\t \t Executed query 6 10 times with avg. response time 142.9610013961792 ms\n",
      "\t \t Executed query 7 10 times with avg. response time 183.43665599822998 ms\n",
      "\t \t Executed query 8 10 times with avg. response time 121.8794584274292 ms\n",
      "\t \t Executed query 9 10 times with avg. response time 176.56080722808838 ms\n",
      "\t \t Executed query 10 10 times with avg. response time 6.065702438354492 ms\n",
      "\t \t Executed query 11 10 times with avg. response time 137.1023178100586 ms\n",
      "\t All postgres tables dropped\n",
      "\t \t Imported data size 60000 to postgres in 807.9395294189453 ms\n",
      "\t \t Executed query 1 10 times with avg. response time 23.746490478515625 ms\n",
      "\t \t Executed query 2 10 times with avg. response time 66.06631278991699 ms\n",
      "\t \t Executed query 3 10 times with avg. response time 19.092440605163574 ms\n",
      "\t \t Executed query 4 10 times with avg. response time 236.81936264038086 ms\n",
      "\t \t Executed query 5 10 times with avg. response time 91.68641567230225 ms\n",
      "\t \t Executed query 6 10 times with avg. response time 188.63012790679932 ms\n",
      "\t \t Executed query 7 10 times with avg. response time 243.82703304290771 ms\n",
      "\t \t Executed query 8 10 times with avg. response time 154.85906600952148 ms\n",
      "\t \t Executed query 9 10 times with avg. response time 228.7027359008789 ms\n",
      "\t \t Executed query 10 10 times with avg. response time 7.300591468811035 ms\n",
      "\t \t Executed query 11 10 times with avg. response time 178.0494213104248 ms\n",
      "\t All postgres tables dropped\n",
      "\t \t Imported data size 80000 to postgres in 1103.7406921386719 ms\n",
      "\t \t Executed query 1 10 times with avg. response time 32.64038562774658 ms\n",
      "\t \t Executed query 2 10 times with avg. response time 90.73295593261719 ms\n",
      "\t \t Executed query 3 10 times with avg. response time 25.673365592956543 ms\n",
      "\t \t Executed query 4 10 times with avg. response time 320.2017545700073 ms\n",
      "\t \t Executed query 5 10 times with avg. response time 142.8433656692505 ms\n",
      "\t \t Executed query 6 10 times with avg. response time 257.21867084503174 ms\n",
      "\t \t Executed query 7 10 times with avg. response time 327.82609462738037 ms\n",
      "\t \t Executed query 8 10 times with avg. response time 258.77182483673096 ms\n",
      "\t \t Executed query 9 10 times with avg. response time 51.107048988342285 ms\n",
      "\t \t Executed query 10 10 times with avg. response time 8.112478256225586 ms\n",
      "\t \t Executed query 11 10 times with avg. response time 19.687342643737793 ms\n",
      "\t All postgres tables dropped\n",
      "\t \t Imported data size 110000 to postgres in 1548.633098602295 ms\n",
      "\t \t Executed query 1 10 times with avg. response time 44.206857681274414 ms\n",
      "\t \t Executed query 2 10 times with avg. response time 135.98661422729492 ms\n",
      "\t \t Executed query 3 10 times with avg. response time 35.17463207244873 ms\n",
      "\t \t Executed query 4 10 times with avg. response time 166.81690216064453 ms\n",
      "\t \t Executed query 5 10 times with avg. response time 210.9328269958496 ms\n",
      "\t \t Executed query 6 10 times with avg. response time 83.95612239837646 ms\n",
      "\t \t Executed query 7 10 times with avg. response time 99.57249164581299 ms\n",
      "\t \t Executed query 8 10 times with avg. response time 317.55080223083496 ms\n",
      "\t \t Executed query 9 10 times with avg. response time 69.8664665222168 ms\n",
      "\t \t Executed query 10 10 times with avg. response time 11.629796028137207 ms\n",
      "\t \t Executed query 11 10 times with avg. response time 27.658653259277344 ms\n",
      "\t All postgres tables dropped\n",
      "\t \t Imported data size 140000 to postgres in 2024.2657661437988 ms\n",
      "\t \t Executed query 1 10 times with avg. response time 53.96533012390137 ms\n",
      "\t \t Executed query 2 10 times with avg. response time 165.6001329421997 ms\n",
      "\t \t Executed query 3 10 times with avg. response time 44.22707557678223 ms\n",
      "\t \t Executed query 4 10 times with avg. response time 209.51061248779297 ms\n",
      "\t \t Executed query 5 10 times with avg. response time 253.3052921295166 ms\n",
      "\t \t Executed query 6 10 times with avg. response time 91.66545867919922 ms\n",
      "\t \t Executed query 7 10 times with avg. response time 114.59887027740479 ms\n",
      "\t \t Executed query 8 10 times with avg. response time 406.8932294845581 ms\n",
      "\t \t Executed query 9 10 times with avg. response time 103.63376140594482 ms\n",
      "\t \t Executed query 10 10 times with avg. response time 16.142606735229492 ms\n",
      "\t \t Executed query 11 10 times with avg. response time 41.759681701660156 ms\n",
      "--------------------------------------------------------------------------------------\n",
      "Start with experiment on arrest_db data set in document database\n",
      "\t All mongoDB tables dropped\n",
      "\t \t Imported data size 8000 to mongoDB in 1954.1306495666504 ms\n",
      "\t \t Executed query 1 10 times with avg. response time 64.2894983291626 ms\n",
      "\t \t Executed query 2 10 times with avg. response time 208.63585472106934 ms\n",
      "\t \t Executed query 3 10 times with avg. response time 64.94579315185547 ms\n",
      "\t \t Executed query 4 10 times with avg. response time 0.000286102294921875 ms\n",
      "\t \t Executed query 5 10 times with avg. response time 0.00026226043701171875 ms\n",
      "\t \t Executed query 6 10 times with avg. response time 0.00026226043701171875 ms\n",
      "\t \t Executed query 7 10 times with avg. response time 0.0002384185791015625 ms\n",
      "\t \t Executed query 8 10 times with avg. response time 0.0002384185791015625 ms\n",
      "\t \t Executed query 9 10 times with avg. response time 0.0002384185791015625 ms\n",
      "\t \t Executed query 10 10 times with avg. response time 0.00030994415283203125 ms\n",
      "\t \t Executed query 11 10 times with avg. response time 0.00021457672119140625 ms\n",
      "\t All mongoDB tables dropped\n",
      "\t \t Imported data size 10000 to mongoDB in 2290.268659591675 ms\n",
      "\t \t Executed query 1 10 times with avg. response time 81.35867118835449 ms\n",
      "\t \t Executed query 2 10 times with avg. response time 251.44643783569336 ms\n",
      "\t \t Executed query 3 10 times with avg. response time 73.5985517501831 ms\n",
      "\t \t Executed query 4 10 times with avg. response time 0.00026226043701171875 ms\n",
      "\t \t Executed query 5 10 times with avg. response time 0.00030994415283203125 ms\n",
      "\t \t Executed query 6 10 times with avg. response time 0.00026226043701171875 ms\n",
      "\t \t Executed query 7 10 times with avg. response time 0.0002384185791015625 ms\n",
      "\t \t Executed query 8 10 times with avg. response time 0.00021457672119140625 ms\n",
      "\t \t Executed query 9 10 times with avg. response time 0.00019073486328125 ms\n",
      "\t \t Executed query 10 10 times with avg. response time 0.00021457672119140625 ms\n",
      "\t \t Executed query 11 10 times with avg. response time 0.00021457672119140625 ms\n",
      "\t All mongoDB tables dropped\n",
      "\t \t Imported data size 13000 to mongoDB in 3050.248861312866 ms\n",
      "\t \t Executed query 1 10 times with avg. response time 111.03858947753906 ms\n",
      "\t \t Executed query 2 10 times with avg. response time 354.7045946121216 ms\n",
      "\t \t Executed query 3 10 times with avg. response time 99.19207096099854 ms\n",
      "\t \t Executed query 4 10 times with avg. response time 0.00021457672119140625 ms\n",
      "\t \t Executed query 5 10 times with avg. response time 0.00021457672119140625 ms\n",
      "\t \t Executed query 6 10 times with avg. response time 0.000286102294921875 ms\n",
      "\t \t Executed query 7 10 times with avg. response time 0.00026226043701171875 ms\n",
      "\t \t Executed query 8 10 times with avg. response time 0.00016689300537109375 ms\n",
      "\t \t Executed query 9 10 times with avg. response time 0.00021457672119140625 ms\n",
      "\t \t Executed query 10 10 times with avg. response time 0.000286102294921875 ms\n",
      "\t \t Executed query 11 10 times with avg. response time 0.00030994415283203125 ms\n",
      "\t All mongoDB tables dropped\n",
      "\t \t Imported data size 18000 to mongoDB in 4346.043825149536 ms\n",
      "\t \t Executed query 1 10 times with avg. response time 154.5684814453125 ms\n",
      "\t \t Executed query 2 10 times with avg. response time 500.59216022491455 ms\n",
      "\t \t Executed query 3 10 times with avg. response time 146.23045921325684 ms\n",
      "\t \t Executed query 4 10 times with avg. response time 0.000286102294921875 ms\n",
      "\t \t Executed query 5 10 times with avg. response time 0.00021457672119140625 ms\n",
      "\t \t Executed query 6 10 times with avg. response time 0.00026226043701171875 ms\n",
      "\t \t Executed query 7 10 times with avg. response time 0.00030994415283203125 ms\n",
      "\t \t Executed query 8 10 times with avg. response time 0.0002384185791015625 ms\n",
      "\t \t Executed query 9 10 times with avg. response time 0.00021457672119140625 ms\n",
      "\t \t Executed query 10 10 times with avg. response time 0.0002384185791015625 ms\n",
      "\t \t Executed query 11 10 times with avg. response time 0.0003814697265625 ms\n",
      "\t All mongoDB tables dropped\n"
     ]
    },
    {
     "name": "stdout",
     "output_type": "stream",
     "text": [
      "\t \t Imported data size 23000 to mongoDB in 5467.149257659912 ms\n",
      "\t \t Executed query 1 10 times with avg. response time 190.00084400177002 ms\n",
      "\t \t Executed query 2 10 times with avg. response time 642.5802707672119 ms\n",
      "\t \t Executed query 3 10 times with avg. response time 179.19578552246094 ms\n",
      "\t \t Executed query 4 10 times with avg. response time 0.00016689300537109375 ms\n",
      "\t \t Executed query 5 10 times with avg. response time 0.0002384185791015625 ms\n",
      "\t \t Executed query 6 10 times with avg. response time 0.00026226043701171875 ms\n",
      "\t \t Executed query 7 10 times with avg. response time 0.000286102294921875 ms\n",
      "\t \t Executed query 8 10 times with avg. response time 0.00021457672119140625 ms\n",
      "\t \t Executed query 9 10 times with avg. response time 0.00026226043701171875 ms\n",
      "\t \t Executed query 10 10 times with avg. response time 0.0002384185791015625 ms\n",
      "\t \t Executed query 11 10 times with avg. response time 0.00026226043701171875 ms\n",
      "--------------------------------------------------------------------------------------\n",
      "Start with experiment on movies_db data set in relational database\n",
      "\t All postgres tables dropped\n",
      "\t \t Imported data size 50000 to postgres in 794.9423789978027 ms\n",
      "\t \t Executed query 1 10 times with avg. response time 12.89985179901123 ms\n",
      "\t \t Executed query 2 10 times with avg. response time 21.60959243774414 ms\n",
      "\t \t Executed query 3 10 times with avg. response time 3.873610496520996 ms\n",
      "\t \t Executed query 4 10 times with avg. response time 7.662558555603027 ms\n",
      "\t \t Executed query 5 10 times with avg. response time 37.769389152526855 ms\n",
      "\t \t Executed query 6 10 times with avg. response time 5.674123764038086 ms\n",
      "\t \t Executed query 7 10 times with avg. response time 7.541775703430176 ms\n",
      "\t \t Executed query 8 10 times with avg. response time 38.35406303405762 ms\n",
      "\t \t Executed query 9 10 times with avg. response time 5.760836601257324 ms\n",
      "\t \t Executed query 10 10 times with avg. response time 3.2094717025756836 ms\n",
      "\t \t Executed query 11 10 times with avg. response time 8.62278938293457 ms\n",
      "\t All postgres tables dropped\n",
      "\t \t Imported data size 60000 to postgres in 1041.0184860229492 ms\n",
      "\t \t Executed query 1 10 times with avg. response time 6.749176979064941 ms\n",
      "\t \t Executed query 2 10 times with avg. response time 21.974778175354004 ms\n",
      "\t \t Executed query 3 10 times with avg. response time 4.6616315841674805 ms\n",
      "\t \t Executed query 4 10 times with avg. response time 9.427571296691895 ms\n",
      "\t \t Executed query 5 10 times with avg. response time 67.93093681335449 ms\n",
      "\t \t Executed query 6 10 times with avg. response time 7.6126813888549805 ms\n",
      "\t \t Executed query 7 10 times with avg. response time 10.099458694458008 ms\n",
      "\t \t Executed query 8 10 times with avg. response time 62.467265129089355 ms\n",
      "\t \t Executed query 9 10 times with avg. response time 7.8975677490234375 ms\n",
      "\t \t Executed query 10 10 times with avg. response time 3.94439697265625 ms\n",
      "\t \t Executed query 11 10 times with avg. response time 12.988018989562988 ms\n",
      "\t All postgres tables dropped\n",
      "\t \t Imported data size 80000 to postgres in 1553.57027053833 ms\n",
      "\t \t Executed query 1 10 times with avg. response time 7.540297508239746 ms\n",
      "\t \t Executed query 2 10 times with avg. response time 29.429173469543457 ms\n",
      "\t \t Executed query 3 10 times with avg. response time 5.789065361022949 ms\n",
      "\t \t Executed query 4 10 times with avg. response time 11.942601203918457 ms\n",
      "\t \t Executed query 5 10 times with avg. response time 93.65091323852539 ms\n",
      "\t \t Executed query 6 10 times with avg. response time 10.40034294128418 ms\n",
      "\t \t Executed query 7 10 times with avg. response time 12.787747383117676 ms\n",
      "\t \t Executed query 8 10 times with avg. response time 92.39990711212158 ms\n",
      "\t \t Executed query 9 10 times with avg. response time 9.84337329864502 ms\n",
      "\t \t Executed query 10 10 times with avg. response time 4.99267578125 ms\n",
      "\t \t Executed query 11 10 times with avg. response time 18.645000457763672 ms\n",
      "\t All postgres tables dropped\n",
      "\t \t Imported data size 110000 to postgres in 2108.903169631958 ms\n",
      "\t \t Executed query 1 10 times with avg. response time 9.44061279296875 ms\n",
      "\t \t Executed query 2 10 times with avg. response time 40.18120765686035 ms\n",
      "\t \t Executed query 3 10 times with avg. response time 7.784128189086914 ms\n",
      "\t \t Executed query 4 10 times with avg. response time 15.608787536621094 ms\n",
      "\t \t Executed query 5 10 times with avg. response time 142.81878471374512 ms\n",
      "\t \t Executed query 6 10 times with avg. response time 13.878059387207031 ms\n",
      "\t \t Executed query 7 10 times with avg. response time 16.249942779541016 ms\n",
      "\t \t Executed query 8 10 times with avg. response time 139.28518295288086 ms\n",
      "\t \t Executed query 9 10 times with avg. response time 13.937091827392578 ms\n",
      "\t \t Executed query 10 10 times with avg. response time 7.389926910400391 ms\n",
      "\t \t Executed query 11 10 times with avg. response time 26.451492309570312 ms\n",
      "\t All postgres tables dropped\n",
      "\t \t Imported data size 140000 to postgres in 2295.356512069702 ms\n",
      "\t \t Executed query 1 10 times with avg. response time 12.0621919631958 ms\n",
      "\t \t Executed query 2 10 times with avg. response time 47.986459732055664 ms\n",
      "\t \t Executed query 3 10 times with avg. response time 9.356832504272461 ms\n",
      "\t \t Executed query 4 10 times with avg. response time 17.67735481262207 ms\n",
      "\t \t Executed query 5 10 times with avg. response time 152.3426055908203 ms\n",
      "\t \t Executed query 6 10 times with avg. response time 15.557718276977539 ms\n",
      "\t \t Executed query 7 10 times with avg. response time 17.562007904052734 ms\n",
      "\t \t Executed query 8 10 times with avg. response time 142.09649562835693 ms\n",
      "\t \t Executed query 9 10 times with avg. response time 15.714025497436523 ms\n",
      "\t \t Executed query 10 10 times with avg. response time 9.219622611999512 ms\n",
      "\t \t Executed query 11 10 times with avg. response time 22.269296646118164 ms\n",
      "--------------------------------------------------------------------------------------\n",
      "Start with experiment on movies_db data set in document database\n",
      "\t All mongoDB tables dropped\n",
      "\t \t Imported data size 8000 to mongoDB in 691.56813621521 ms\n",
      "\t \t Executed query 1 10 times with avg. response time 13.851547241210938 ms\n",
      "\t \t Executed query 2 10 times with avg. response time 4.091596603393555 ms\n",
      "\t \t Executed query 3 10 times with avg. response time 13.381385803222656 ms\n",
      "\t \t Executed query 4 10 times with avg. response time 2.6972055435180664 ms\n",
      "\t \t Executed query 5 10 times with avg. response time 3.4044504165649414 ms\n",
      "\t \t Executed query 6 10 times with avg. response time 3.0416250228881836 ms\n",
      "\t \t Executed query 7 10 times with avg. response time 2.621006965637207 ms\n",
      "\t \t Executed query 8 10 times with avg. response time 2.4294614791870117 ms\n",
      "\t \t Executed query 9 10 times with avg. response time 3.03955078125 ms\n",
      "\t \t Executed query 10 10 times with avg. response time 13.686180114746094 ms\n",
      "\t \t Executed query 11 10 times with avg. response time 0.9078025817871094 ms\n",
      "\t All mongoDB tables dropped\n",
      "\t \t Imported data size 10000 to mongoDB in 918.764591217041 ms\n",
      "\t \t Executed query 1 10 times with avg. response time 16.901469230651855 ms\n",
      "\t \t Executed query 2 10 times with avg. response time 4.901480674743652 ms\n",
      "\t \t Executed query 3 10 times with avg. response time 16.439223289489746 ms\n",
      "\t \t Executed query 4 10 times with avg. response time 4.271936416625977 ms\n",
      "\t \t Executed query 5 10 times with avg. response time 5.135321617126465 ms\n",
      "\t \t Executed query 6 10 times with avg. response time 4.957866668701172 ms\n",
      "\t \t Executed query 7 10 times with avg. response time 4.164290428161621 ms\n",
      "\t \t Executed query 8 10 times with avg. response time 3.847646713256836 ms\n",
      "\t \t Executed query 9 10 times with avg. response time 3.7205934524536133 ms\n",
      "\t \t Executed query 10 10 times with avg. response time 16.896915435791016 ms\n",
      "\t \t Executed query 11 10 times with avg. response time 0.7179021835327148 ms\n",
      "\t All mongoDB tables dropped\n",
      "\t \t Imported data size 13000 to mongoDB in 1252.4943351745605 ms\n",
      "\t \t Executed query 1 10 times with avg. response time 22.72791862487793 ms\n",
      "\t \t Executed query 2 10 times with avg. response time 6.014227867126465 ms\n",
      "\t \t Executed query 3 10 times with avg. response time 21.665549278259277 ms\n",
      "\t \t Executed query 4 10 times with avg. response time 8.050394058227539 ms\n",
      "\t \t Executed query 5 10 times with avg. response time 7.999849319458008 ms\n",
      "\t \t Executed query 6 10 times with avg. response time 8.670806884765625 ms\n"
     ]
    },
    {
     "name": "stdout",
     "output_type": "stream",
     "text": [
      "\t \t Executed query 7 10 times with avg. response time 5.872869491577148 ms\n",
      "\t \t Executed query 8 10 times with avg. response time 6.086063385009766 ms\n",
      "\t \t Executed query 9 10 times with avg. response time 5.689549446105957 ms\n",
      "\t \t Executed query 10 10 times with avg. response time 22.0076322555542 ms\n",
      "\t \t Executed query 11 10 times with avg. response time 0.7008552551269531 ms\n",
      "\t All mongoDB tables dropped\n",
      "\t \t Imported data size 18000 to mongoDB in 1641.7877674102783 ms\n",
      "\t \t Executed query 1 10 times with avg. response time 32.03861713409424 ms\n",
      "\t \t Executed query 2 10 times with avg. response time 8.184003829956055 ms\n",
      "\t \t Executed query 3 10 times with avg. response time 36.37595176696777 ms\n",
      "\t \t Executed query 4 10 times with avg. response time 12.952661514282227 ms\n",
      "\t \t Executed query 5 10 times with avg. response time 11.517548561096191 ms\n",
      "\t \t Executed query 6 10 times with avg. response time 12.255859375 ms\n",
      "\t \t Executed query 7 10 times with avg. response time 9.977006912231445 ms\n",
      "\t \t Executed query 8 10 times with avg. response time 9.117794036865234 ms\n",
      "\t \t Executed query 9 10 times with avg. response time 9.537148475646973 ms\n",
      "\t \t Executed query 10 10 times with avg. response time 34.957170486450195 ms\n",
      "\t \t Executed query 11 10 times with avg. response time 0.7719278335571289 ms\n",
      "\t All mongoDB tables dropped\n",
      "\t \t Imported data size 23000 to mongoDB in 2258.8181495666504 ms\n",
      "\t \t Executed query 1 10 times with avg. response time 41.97053909301758 ms\n",
      "\t \t Executed query 2 10 times with avg. response time 9.849858283996582 ms\n",
      "\t \t Executed query 3 10 times with avg. response time 36.767029762268066 ms\n",
      "\t \t Executed query 4 10 times with avg. response time 11.634206771850586 ms\n",
      "\t \t Executed query 5 10 times with avg. response time 10.911393165588379 ms\n",
      "\t \t Executed query 6 10 times with avg. response time 10.419034957885742 ms\n",
      "\t \t Executed query 7 10 times with avg. response time 9.047341346740723 ms\n",
      "\t \t Executed query 8 10 times with avg. response time 7.634139060974121 ms\n",
      "\t \t Executed query 9 10 times with avg. response time 7.524275779724121 ms\n",
      "\t \t Executed query 10 10 times with avg. response time 37.177371978759766 ms\n",
      "\t \t Executed query 11 10 times with avg. response time 0.6942987442016602 ms\n"
     ]
    }
   ],
   "source": [
    "test.execute('rob')"
   ]
  },
  {
   "cell_type": "code",
   "execution_count": 7,
   "metadata": {},
   "outputs": [],
   "source": [
    "df=test.get_results()"
   ]
  },
  {
   "cell_type": "code",
   "execution_count": 8,
   "metadata": {},
   "outputs": [
    {
     "name": "stdout",
     "output_type": "stream",
     "text": [
      "<class 'pandas.core.frame.DataFrame'>\n",
      "RangeIndex: 2220 entries, 0 to 2219\n",
      "Data columns (total 7 columns):\n",
      " #   Column         Non-Null Count  Dtype  \n",
      "---  ------         --------------  -----  \n",
      " 0   person         2220 non-null   object \n",
      " 1   data_set       2220 non-null   object \n",
      " 2   data_store     2220 non-null   object \n",
      " 3   data_size      2220 non-null   object \n",
      " 4   query          2220 non-null   object \n",
      " 5   trial          2220 non-null   object \n",
      " 6   response_time  2220 non-null   float64\n",
      "dtypes: float64(1), object(6)\n",
      "memory usage: 121.5+ KB\n"
     ]
    }
   ],
   "source": [
    "df.info()"
   ]
  },
  {
   "cell_type": "code",
   "execution_count": 9,
   "metadata": {},
   "outputs": [
    {
     "data": {
      "image/png": "[encoded data removed]",
      "text/plain": [
       "<Figure size 432x288 with 1 Axes>"
      ]
     },
     "metadata": {
      "needs_background": "light"
     },
     "output_type": "display_data"
    }
   ],
   "source": [
    "df[df['query']=='4'].plot(kind='scatter',x='data_store',y='response_time')\n",
    "plt.show()"
   ]
  },
  {
   "cell_type": "code",
   "execution_count": 10,
   "metadata": {},
   "outputs": [
    {
     "data": {
      "image/png": "[encoded data removed]",
      "text/plain": [
       "<Figure size 432x288 with 1 Axes>"
      ]
     },
     "metadata": {
      "needs_background": "light"
     },
     "output_type": "display_data"
    }
   ],
   "source": [
    "df[df['query']=='import'].plot(kind='scatter',x='data_store',y='response_time')\n",
    "plt.show()"
   ]
  },
  {
   "cell_type": "code",
   "execution_count": 11,
   "metadata": {},
   "outputs": [],
   "source": [
    "test.export_results()"
   ]
  }
 ],
 "metadata": {
  "kernelspec": {
   "display_name": "Python 3",
   "language": "python",
   "name": "python3"
  },
  "language_info": {
   "codemirror_mode": {
    "name": "ipython",
    "version": 3
   },
   "file_extension": ".py",
   "mimetype": "text/x-python",
   "name": "python",
   "nbconvert_exporter": "python",
   "pygments_lexer": "ipython3",
   "version": "3.8.3"
  }
 },
 "nbformat": 4,
 "nbformat_minor": 4
}
